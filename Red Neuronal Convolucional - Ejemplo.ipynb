{
 "cells": [
  {
   "cell_type": "markdown",
   "id": "33bfee16-9e73-460c-addf-fe08e16b8a78",
   "metadata": {},
   "source": [
    "# Redes Neuronales Convolucionales"
   ]
  },
  {
   "cell_type": "markdown",
   "id": "77e0686e-5d96-4633-8f51-3af46eb176ad",
   "metadata": {},
   "source": [
    "## Instalar Librerías"
   ]
  },
  {
   "cell_type": "code",
   "execution_count": 1,
   "id": "f0f2c8dc-106a-4450-bad3-6ed9fbf2820e",
   "metadata": {},
   "outputs": [],
   "source": [
    "from keras.models import Sequential\n",
    "from tensorflow.keras import Input\n",
    "\n",
    "from keras.layers import Conv2D, MaxPooling2D, Flatten, Dense\n",
    "\n",
    "import matplotlib.pyplot as plt\n",
    "import numpy as np"
   ]
  },
  {
   "cell_type": "markdown",
   "id": "890ebd5f-f77c-43e1-a9c3-102b12bf6ec8",
   "metadata": {},
   "source": [
    "## Crear la red"
   ]
  },
  {
   "cell_type": "code",
   "execution_count": 2,
   "id": "597bd78f-5aa5-4c75-a131-36076fc66ce3",
   "metadata": {},
   "outputs": [],
   "source": [
    "# Inicializo clasificador de CNN\n",
    "clasificador = Sequential()"
   ]
  },
  {
   "cell_type": "code",
   "execution_count": 3,
   "id": "a73b28e4-80dd-4309-8d3d-bc252d4e234d",
   "metadata": {},
   "outputs": [],
   "source": [
    "clasificador.add(Input(shape = (64,64,3)))"
   ]
  },
  {
   "cell_type": "code",
   "execution_count": 4,
   "id": "1ce4abfb-d789-4b65-9698-c87f335e2276",
   "metadata": {},
   "outputs": [],
   "source": [
    "# Capa 1 - Primera capa convolucional\n",
    "clasificador.add(\n",
    "    Conv2D(\n",
    "        filters = 32,\n",
    "        kernel_size = (3, 3),\n",
    "        activation = \"relu\"\n",
    "    )\n",
    ")"
   ]
  },
  {
   "cell_type": "code",
   "execution_count": 5,
   "id": "4a00a491-76b9-4602-a53e-6430364314f3",
   "metadata": {},
   "outputs": [],
   "source": [
    "# Capa 2 - 1er capa de pooling\n",
    "clasificador.add(\n",
    "    MaxPooling2D(pool_size = (2,2))\n",
    ")"
   ]
  },
  {
   "cell_type": "code",
   "execution_count": 6,
   "id": "4600b009-5b6e-4ecb-bb1c-1c370320c3b8",
   "metadata": {},
   "outputs": [],
   "source": [
    "# Capa 3 - 2da capa convolucional\n",
    "clasificador.add(\n",
    "    Conv2D(\n",
    "        filters = 32,\n",
    "        kernel_size = (3, 3),\n",
    "        activation = \"relu\"\n",
    "    )\n",
    ")"
   ]
  },
  {
   "cell_type": "code",
   "execution_count": 7,
   "id": "ed892903-fab0-4497-aa4f-2fbf8eac1bdf",
   "metadata": {},
   "outputs": [],
   "source": [
    "# Capa 4 - 2da capa de pooling\n",
    "clasificador.add(\n",
    "    MaxPooling2D(pool_size = (2,2))\n",
    ")"
   ]
  },
  {
   "cell_type": "code",
   "execution_count": 8,
   "id": "20b9c66e-bf9a-455b-9127-63562b0f4b5f",
   "metadata": {},
   "outputs": [],
   "source": [
    "# Capa 5 - capa de flattening\n",
    "clasificador.add(\n",
    "    Flatten()\n",
    ")"
   ]
  },
  {
   "cell_type": "code",
   "execution_count": 9,
   "id": "91615c84-d3d0-47ae-b3dc-d0e3b79fe895",
   "metadata": {},
   "outputs": [],
   "source": [
    "# Capa 6 - capa densa \n",
    "clasificador.add(\n",
    "    Dense(\n",
    "        units = 128,\n",
    "        activation = \"relu\"\n",
    "    )\n",
    ")"
   ]
  },
  {
   "cell_type": "code",
   "execution_count": 10,
   "id": "4144d3b2-615a-4687-b6ca-f1f2503e80f3",
   "metadata": {},
   "outputs": [],
   "source": [
    "# Capa 7 - capa de salida\n",
    "clasificador.add(\n",
    "    Dense(\n",
    "        units = 1,\n",
    "        activation = \"sigmoid\"\n",
    "    )\n",
    ")"
   ]
  },
  {
   "cell_type": "code",
   "execution_count": 11,
   "id": "ddc4ffde-61db-4c6d-bca9-02bcbbf671fb",
   "metadata": {},
   "outputs": [],
   "source": [
    "# agregar compilador\n",
    "clasificador.compile(\n",
    "    optimizer = \"adam\",\n",
    "    loss = \"binary_crossentropy\",\n",
    "    metrics = [\"accuracy\"]\n",
    ")"
   ]
  },
  {
   "cell_type": "markdown",
   "id": "c12ac09f-cbc9-4678-b5da-26bef04984ec",
   "metadata": {},
   "source": [
    "## Importar Imágenes"
   ]
  },
  {
   "cell_type": "code",
   "execution_count": 12,
   "id": "7e1d816d-0339-4d46-af6c-02fa452d12b4",
   "metadata": {},
   "outputs": [],
   "source": [
    "from tensorflow.keras.preprocessing.image import ImageDataGenerator"
   ]
  },
  {
   "cell_type": "code",
   "execution_count": 13,
   "id": "f7a3f273-b062-4d48-bea9-5d2e30f0d41b",
   "metadata": {},
   "outputs": [],
   "source": [
    "train_datagen = ImageDataGenerator(\n",
    "    rescale = 1/255,\n",
    "    shear_range = 0.2, # cezallamiento - cuanto se gira la imagen - hasta 0.2 radianes\n",
    "    zoom_range = 0.2, # aplico zoom de hasta 20% en imágenes\n",
    "    horizontal_flip = True # gira de forma aleatoria las fotos 90 grados\n",
    ")\n",
    "\n",
    "test_datagen = ImageDataGenerator(\n",
    "    rescale = 1/255\n",
    ")"
   ]
  },
  {
   "cell_type": "code",
   "execution_count": 14,
   "id": "9248c231-20eb-4141-99cd-604785641883",
   "metadata": {},
   "outputs": [
    {
     "name": "stdout",
     "output_type": "stream",
     "text": [
      "Found 8048 images belonging to 2 classes.\n"
     ]
    }
   ],
   "source": [
    "training_set = train_datagen.flow_from_directory(\n",
    "    \"dataset/training_set\",\n",
    "    target_size = (64, 64),\n",
    "    batch_size = 32,\n",
    "    class_mode = \"binary\"\n",
    ")"
   ]
  },
  {
   "cell_type": "code",
   "execution_count": 15,
   "id": "a28fcb07-b831-4096-a572-58dcbbbbb607",
   "metadata": {},
   "outputs": [
    {
     "name": "stdout",
     "output_type": "stream",
     "text": [
      "Found 2000 images belonging to 2 classes.\n"
     ]
    }
   ],
   "source": [
    "test_set = test_datagen.flow_from_directory(\n",
    "    \"dataset/test_set\",\n",
    "    target_size = (64, 64),\n",
    "    batch_size = 32,\n",
    "    class_mode = \"binary\"\n",
    ")"
   ]
  },
  {
   "cell_type": "code",
   "execution_count": 16,
   "id": "a6631fad-01a0-4aee-9d7a-9cb4054e8345",
   "metadata": {},
   "outputs": [],
   "source": [
    "images, labels = next(training_set)"
   ]
  },
  {
   "cell_type": "code",
   "execution_count": 17,
   "id": "57cd8d7a-b015-4824-a044-918f901eadd5",
   "metadata": {},
   "outputs": [
    {
     "data": {
      "text/plain": [
       "(64, 64, 3)"
      ]
     },
     "execution_count": 17,
     "metadata": {},
     "output_type": "execute_result"
    }
   ],
   "source": [
    "images[0].shape"
   ]
  },
  {
   "cell_type": "code",
   "execution_count": 18,
   "id": "0eaac496-9609-4636-b97e-444e39ceccc1",
   "metadata": {},
   "outputs": [
    {
     "data": {
      "text/plain": [
       "array([[[0.38884658, 0.25017905, 0.10696889],\n",
       "        [0.37119898, 0.24482135, 0.12056401],\n",
       "        [0.369519  , 0.2468041 , 0.12963982],\n",
       "        ...,\n",
       "        [0.17077707, 0.15116923, 0.13940452],\n",
       "        [0.1666583 , 0.14705046, 0.13528575],\n",
       "        [0.16151838, 0.14191054, 0.13014582]],\n",
       "\n",
       "       [[0.40783468, 0.27827764, 0.12669206],\n",
       "        [0.41815692, 0.28653935, 0.1385495 ],\n",
       "        [0.4349969 , 0.3028118 , 0.15585025],\n",
       "        ...,\n",
       "        [0.17995875, 0.1603509 , 0.1485862 ],\n",
       "        [0.17640592, 0.15679808, 0.14503337],\n",
       "        [0.15885071, 0.13924287, 0.12747817]],\n",
       "\n",
       "       [[0.41811162, 0.28171268, 0.13291483],\n",
       "        [0.4277505 , 0.28639922, 0.12793623],\n",
       "        [0.42838156, 0.29124653, 0.12830743],\n",
       "        ...,\n",
       "        [0.18274239, 0.16404629, 0.14498751],\n",
       "        [0.1768477 , 0.15723985, 0.14547515],\n",
       "        [0.16127238, 0.14166453, 0.12989983]],\n",
       "\n",
       "       ...,\n",
       "\n",
       "       [[0.7432332 , 0.6385155 , 0.5517268 ],\n",
       "        [0.739679  , 0.637533  , 0.5475658 ],\n",
       "        [0.7471458 , 0.64518493, 0.55498886],\n",
       "        ...,\n",
       "        [0.8759555 , 0.7707823 , 0.6794185 ],\n",
       "        [0.8791926 , 0.7693886 , 0.6831141 ],\n",
       "        [0.8793772 , 0.7695733 , 0.6832987 ]],\n",
       "\n",
       "       [[0.7486595 , 0.64527637, 0.5579249 ],\n",
       "        [0.74510527, 0.64068145, 0.55541134],\n",
       "        [0.76237196, 0.6578762 , 0.5727499 ],\n",
       "        ...,\n",
       "        [0.87724054, 0.7701342 , 0.6799757 ],\n",
       "        [0.87360543, 0.76633644, 0.6876667 ],\n",
       "        [0.8790916 , 0.7714925 , 0.6918324 ]],\n",
       "\n",
       "       [[0.7528091 , 0.65071625, 0.56078434],\n",
       "        [0.7492549 , 0.6436077 , 0.56078434],\n",
       "        [0.7368156 , 0.63093317, 0.5485802 ],\n",
       "        ...,\n",
       "        [0.8787599 , 0.77092636, 0.68022794],\n",
       "        [0.872785  , 0.76913494, 0.6856959 ],\n",
       "        [0.8785837 , 0.77411604, 0.6903003 ]]], dtype=float32)"
      ]
     },
     "execution_count": 18,
     "metadata": {},
     "output_type": "execute_result"
    }
   ],
   "source": [
    "images[0]"
   ]
  },
  {
   "cell_type": "code",
   "execution_count": 19,
   "id": "6535f639-8930-4f0a-b293-2acec159e09c",
   "metadata": {},
   "outputs": [
    {
     "data": {
      "text/plain": [
       "1.0"
      ]
     },
     "execution_count": 19,
     "metadata": {},
     "output_type": "execute_result"
    }
   ],
   "source": [
    "labels[1]"
   ]
  },
  {
   "cell_type": "code",
   "execution_count": 20,
   "id": "35a7b340-ee97-4cb7-af18-0f41e58d2adf",
   "metadata": {},
   "outputs": [
    {
     "data": {
      "image/png": "[encoded data removed]",
      "text/plain": [
       "<Figure size 300x300 with 1 Axes>"
      ]
     },
     "metadata": {},
     "output_type": "display_data"
    }
   ],
   "source": [
    "plt.figure(figsize = (3,3))\n",
    "plt.imshow(images[1])\n",
    "plt.show()"
   ]
  },
  {
   "cell_type": "code",
   "execution_count": 21,
   "id": "010f16cc-69b5-4360-bbcd-551527998b37",
   "metadata": {},
   "outputs": [
    {
     "data": {
      "text/plain": [
       "{'cats': 0, 'dogs': 1}"
      ]
     },
     "execution_count": 21,
     "metadata": {},
     "output_type": "execute_result"
    }
   ],
   "source": [
    "training_set.class_indices"
   ]
  },
  {
   "cell_type": "code",
   "execution_count": 22,
   "id": "6bcc9bdb-f968-4dfe-a6a8-e0a854dd0d2c",
   "metadata": {},
   "outputs": [],
   "source": [
    "# X_train -> imagenes\n",
    "# y_train -> etiquetas de las imagenes"
   ]
  },
  {
   "cell_type": "markdown",
   "id": "0d7b45a0-59a7-4d01-9f86-a5125bb5e2a4",
   "metadata": {},
   "source": [
    "## Entrenar al modelo"
   ]
  },
  {
   "cell_type": "code",
   "execution_count": 23,
   "id": "9b92ec50-d531-4c2e-a5dd-74b264c9468e",
   "metadata": {},
   "outputs": [
    {
     "data": {
      "text/plain": [
       "251.5"
      ]
     },
     "execution_count": 23,
     "metadata": {},
     "output_type": "execute_result"
    }
   ],
   "source": [
    "8048 / 32"
   ]
  },
  {
   "cell_type": "code",
   "execution_count": 24,
   "id": "ba0b3d5a-cf37-4c01-86a7-39fe764a53a5",
   "metadata": {},
   "outputs": [
    {
     "data": {
      "text/plain": [
       "62.5"
      ]
     },
     "execution_count": 24,
     "metadata": {},
     "output_type": "execute_result"
    }
   ],
   "source": [
    "2000 / 32"
   ]
  },
  {
   "cell_type": "code",
   "execution_count": 25,
   "id": "5294cf6c-d00c-4d43-b968-32dd16c22c57",
   "metadata": {
    "collapsed": true,
    "jupyter": {
     "outputs_hidden": true
    }
   },
   "outputs": [
    {
     "name": "stdout",
     "output_type": "stream",
     "text": [
      "Epoch 1/25\n"
     ]
    },
    {
     "name": "stderr",
     "output_type": "stream",
     "text": [
      "C:\\Users\\ignac\\anaconda3\\Lib\\site-packages\\keras\\src\\trainers\\data_adapters\\py_dataset_adapter.py:121: UserWarning: Your `PyDataset` class should call `super().__init__(**kwargs)` in its constructor. `**kwargs` can include `workers`, `use_multiprocessing`, `max_queue_size`. Do not pass these arguments to `fit()`, as they will be ignored.\n",
      "  self._warn_if_super_not_called()\n"
     ]
    },
    {
     "name": "stdout",
     "output_type": "stream",
     "text": [
      "\u001b[1m251/251\u001b[0m \u001b[32m━━━━━━━━━━━━━━━━━━━━\u001b[0m\u001b[37m\u001b[0m \u001b[1m109s\u001b[0m 419ms/step - accuracy: 0.5806 - loss: 0.6665 - val_accuracy: 0.7006 - val_loss: 0.5740\n",
      "Epoch 2/25\n",
      "\u001b[1m251/251\u001b[0m \u001b[32m━━━━━━━━━━━━━━━━━━━━\u001b[0m\u001b[37m\u001b[0m \u001b[1m0s\u001b[0m 565us/step - accuracy: 0.6562 - loss: 0.6275 - val_accuracy: 0.8750 - val_loss: 0.4527\n",
      "Epoch 3/25\n"
     ]
    },
    {
     "name": "stderr",
     "output_type": "stream",
     "text": [
      "C:\\Users\\ignac\\anaconda3\\Lib\\contextlib.py:158: UserWarning: Your input ran out of data; interrupting training. Make sure that your dataset or generator can generate at least `steps_per_epoch * epochs` batches. You may need to use the `.repeat()` function when building your dataset.\n",
      "  self.gen.throw(typ, value, traceback)\n"
     ]
    },
    {
     "name": "stdout",
     "output_type": "stream",
     "text": [
      "\u001b[1m251/251\u001b[0m \u001b[32m━━━━━━━━━━━━━━━━━━━━\u001b[0m\u001b[37m\u001b[0m \u001b[1m26s\u001b[0m 100ms/step - accuracy: 0.6984 - loss: 0.5778 - val_accuracy: 0.7072 - val_loss: 0.5671\n",
      "Epoch 4/25\n",
      "\u001b[1m251/251\u001b[0m \u001b[32m━━━━━━━━━━━━━━━━━━━━\u001b[0m\u001b[37m\u001b[0m \u001b[1m0s\u001b[0m 149us/step - accuracy: 0.7500 - loss: 0.5892 - val_accuracy: 0.7500 - val_loss: 0.4861\n",
      "Epoch 5/25\n",
      "\u001b[1m251/251\u001b[0m \u001b[32m━━━━━━━━━━━━━━━━━━━━\u001b[0m\u001b[37m\u001b[0m \u001b[1m29s\u001b[0m 113ms/step - accuracy: 0.7321 - loss: 0.5329 - val_accuracy: 0.7218 - val_loss: 0.5553\n",
      "Epoch 6/25\n",
      "\u001b[1m251/251\u001b[0m \u001b[32m━━━━━━━━━━━━━━━━━━━━\u001b[0m\u001b[37m\u001b[0m \u001b[1m0s\u001b[0m 235us/step - accuracy: 0.7500 - loss: 0.4706 - val_accuracy: 0.8125 - val_loss: 0.4169\n",
      "Epoch 7/25\n",
      "\u001b[1m251/251\u001b[0m \u001b[32m━━━━━━━━━━━━━━━━━━━━\u001b[0m\u001b[37m\u001b[0m \u001b[1m22s\u001b[0m 86ms/step - accuracy: 0.7493 - loss: 0.5087 - val_accuracy: 0.7671 - val_loss: 0.5039\n",
      "Epoch 8/25\n",
      "\u001b[1m251/251\u001b[0m \u001b[32m━━━━━━━━━━━━━━━━━━━━\u001b[0m\u001b[37m\u001b[0m \u001b[1m0s\u001b[0m 124us/step - accuracy: 0.6562 - loss: 0.7079 - val_accuracy: 0.8125 - val_loss: 0.3616\n",
      "Epoch 9/25\n",
      "\u001b[1m251/251\u001b[0m \u001b[32m━━━━━━━━━━━━━━━━━━━━\u001b[0m\u001b[37m\u001b[0m \u001b[1m24s\u001b[0m 96ms/step - accuracy: 0.7762 - loss: 0.4757 - val_accuracy: 0.7626 - val_loss: 0.4942\n",
      "Epoch 10/25\n",
      "\u001b[1m251/251\u001b[0m \u001b[32m━━━━━━━━━━━━━━━━━━━━\u001b[0m\u001b[37m\u001b[0m \u001b[1m0s\u001b[0m 197us/step - accuracy: 0.6250 - loss: 0.6479 - val_accuracy: 0.8125 - val_loss: 0.4611\n",
      "Epoch 11/25\n",
      "\u001b[1m251/251\u001b[0m \u001b[32m━━━━━━━━━━━━━━━━━━━━\u001b[0m\u001b[37m\u001b[0m \u001b[1m29s\u001b[0m 112ms/step - accuracy: 0.7879 - loss: 0.4552 - val_accuracy: 0.7676 - val_loss: 0.4845\n",
      "Epoch 12/25\n",
      "\u001b[1m251/251\u001b[0m \u001b[32m━━━━━━━━━━━━━━━━━━━━\u001b[0m\u001b[37m\u001b[0m \u001b[1m0s\u001b[0m 287us/step - accuracy: 0.8750 - loss: 0.3780 - val_accuracy: 0.5000 - val_loss: 0.7459\n",
      "Epoch 13/25\n",
      "\u001b[1m251/251\u001b[0m \u001b[32m━━━━━━━━━━━━━━━━━━━━\u001b[0m\u001b[37m\u001b[0m \u001b[1m24s\u001b[0m 93ms/step - accuracy: 0.7974 - loss: 0.4360 - val_accuracy: 0.7737 - val_loss: 0.4932\n",
      "Epoch 14/25\n",
      "\u001b[1m251/251\u001b[0m \u001b[32m━━━━━━━━━━━━━━━━━━━━\u001b[0m\u001b[37m\u001b[0m \u001b[1m0s\u001b[0m 150us/step - accuracy: 0.6875 - loss: 0.5436 - val_accuracy: 0.8125 - val_loss: 0.4589\n",
      "Epoch 15/25\n",
      "\u001b[1m251/251\u001b[0m \u001b[32m━━━━━━━━━━━━━━━━━━━━\u001b[0m\u001b[37m\u001b[0m \u001b[1m23s\u001b[0m 90ms/step - accuracy: 0.7951 - loss: 0.4310 - val_accuracy: 0.7656 - val_loss: 0.4892\n",
      "Epoch 16/25\n",
      "\u001b[1m251/251\u001b[0m \u001b[32m━━━━━━━━━━━━━━━━━━━━\u001b[0m\u001b[37m\u001b[0m \u001b[1m0s\u001b[0m 158us/step - accuracy: 0.9062 - loss: 0.2719 - val_accuracy: 0.7500 - val_loss: 0.4031\n",
      "Epoch 17/25\n",
      "\u001b[1m251/251\u001b[0m \u001b[32m━━━━━━━━━━━━━━━━━━━━\u001b[0m\u001b[37m\u001b[0m \u001b[1m27s\u001b[0m 105ms/step - accuracy: 0.8033 - loss: 0.4158 - val_accuracy: 0.7913 - val_loss: 0.4437\n",
      "Epoch 18/25\n",
      "\u001b[1m251/251\u001b[0m \u001b[32m━━━━━━━━━━━━━━━━━━━━\u001b[0m\u001b[37m\u001b[0m \u001b[1m0s\u001b[0m 147us/step - accuracy: 0.8750 - loss: 0.3355 - val_accuracy: 0.8750 - val_loss: 0.3292\n",
      "Epoch 19/25\n",
      "\u001b[1m251/251\u001b[0m \u001b[32m━━━━━━━━━━━━━━━━━━━━\u001b[0m\u001b[37m\u001b[0m \u001b[1m29s\u001b[0m 115ms/step - accuracy: 0.8129 - loss: 0.3994 - val_accuracy: 0.7424 - val_loss: 0.5647\n",
      "Epoch 20/25\n",
      "\u001b[1m251/251\u001b[0m \u001b[32m━━━━━━━━━━━━━━━━━━━━\u001b[0m\u001b[37m\u001b[0m \u001b[1m0s\u001b[0m 312us/step - accuracy: 0.9062 - loss: 0.2970 - val_accuracy: 0.7500 - val_loss: 0.4385\n",
      "Epoch 21/25\n",
      "\u001b[1m251/251\u001b[0m \u001b[32m━━━━━━━━━━━━━━━━━━━━\u001b[0m\u001b[37m\u001b[0m \u001b[1m31s\u001b[0m 119ms/step - accuracy: 0.8264 - loss: 0.3895 - val_accuracy: 0.7772 - val_loss: 0.4840\n",
      "Epoch 22/25\n",
      "\u001b[1m251/251\u001b[0m \u001b[32m━━━━━━━━━━━━━━━━━━━━\u001b[0m\u001b[37m\u001b[0m \u001b[1m0s\u001b[0m 240us/step - accuracy: 0.8438 - loss: 0.4421 - val_accuracy: 0.6250 - val_loss: 0.6429\n",
      "Epoch 23/25\n",
      "\u001b[1m251/251\u001b[0m \u001b[32m━━━━━━━━━━━━━━━━━━━━\u001b[0m\u001b[37m\u001b[0m \u001b[1m36s\u001b[0m 140ms/step - accuracy: 0.8214 - loss: 0.3803 - val_accuracy: 0.7949 - val_loss: 0.4663\n",
      "Epoch 24/25\n",
      "\u001b[1m251/251\u001b[0m \u001b[32m━━━━━━━━━━━━━━━━━━━━\u001b[0m\u001b[37m\u001b[0m \u001b[1m0s\u001b[0m 243us/step - accuracy: 0.8750 - loss: 0.4085 - val_accuracy: 0.8125 - val_loss: 0.6432\n",
      "Epoch 25/25\n",
      "\u001b[1m251/251\u001b[0m \u001b[32m━━━━━━━━━━━━━━━━━━━━\u001b[0m\u001b[37m\u001b[0m \u001b[1m31s\u001b[0m 120ms/step - accuracy: 0.8373 - loss: 0.3581 - val_accuracy: 0.7964 - val_loss: 0.4497\n"
     ]
    },
    {
     "data": {
      "text/plain": [
       "<keras.src.callbacks.history.History at 0x1a887d73010>"
      ]
     },
     "execution_count": 25,
     "metadata": {},
     "output_type": "execute_result"
    }
   ],
   "source": [
    "clasificador.fit(\n",
    "    training_set,\n",
    "    steps_per_epoch = 251,\n",
    "    epochs = 25,    \n",
    "    validation_data = test_set,\n",
    "    validation_steps = 62 \n",
    ")"
   ]
  },
  {
   "cell_type": "markdown",
   "id": "d2acfd4c-78df-422d-8952-63a07c5e13e7",
   "metadata": {},
   "source": [
    "## Validación de modelo"
   ]
  },
  {
   "cell_type": "code",
   "execution_count": 26,
   "id": "b4532c5b-70e1-4c4a-b812-e649e788472d",
   "metadata": {},
   "outputs": [],
   "source": [
    "from tensorflow.keras.preprocessing import image"
   ]
  },
  {
   "cell_type": "code",
   "execution_count": 67,
   "id": "28ea49ae-1b9b-42ee-a865-9f934907f9c9",
   "metadata": {},
   "outputs": [
    {
     "data": {
      "image/jpeg": "[encoded data removed]",
      "image/png": "[encoded data removed]",
      "text/plain": [
       "<PIL.Image.Image image mode=RGB size=64x64>"
      ]
     },
     "execution_count": 67,
     "metadata": {},
     "output_type": "execute_result"
    }
   ],
   "source": [
    "test_image = image.load_img(\"bichon-maltes.jpg\", target_size = (64,64))\n",
    "test_image"
   ]
  },
  {
   "cell_type": "code",
   "execution_count": 68,
   "id": "cc355c78-e61a-4d5b-8731-9f4645afce5f",
   "metadata": {},
   "outputs": [],
   "source": [
    "test_image = image.img_to_array(test_image)"
   ]
  },
  {
   "cell_type": "code",
   "execution_count": 69,
   "id": "ba538f25-56da-4f7a-81e2-cb563c078461",
   "metadata": {},
   "outputs": [
    {
     "data": {
      "text/plain": [
       "(64, 64, 3)"
      ]
     },
     "execution_count": 69,
     "metadata": {},
     "output_type": "execute_result"
    }
   ],
   "source": [
    "test_image.shape"
   ]
  },
  {
   "cell_type": "code",
   "execution_count": 70,
   "id": "c53a8574-fa7a-4952-b042-766666b0eaad",
   "metadata": {},
   "outputs": [
    {
     "data": {
      "text/plain": [
       "(1, 64, 64, 3)"
      ]
     },
     "execution_count": 70,
     "metadata": {},
     "output_type": "execute_result"
    }
   ],
   "source": [
    "test_image = np.expand_dims(test_image, axis=0)\n",
    "test_image.shape"
   ]
  },
  {
   "cell_type": "code",
   "execution_count": 71,
   "id": "d897f0f6-15e6-4d58-b3e1-cfbfaba26a5b",
   "metadata": {},
   "outputs": [],
   "source": [
    "test_image = test_image / 255"
   ]
  },
  {
   "cell_type": "code",
   "execution_count": 76,
   "id": "30c5e845-8975-4f59-b9b5-9e254c74805a",
   "metadata": {},
   "outputs": [
    {
     "name": "stdout",
     "output_type": "stream",
     "text": [
      "\u001b[1m1/1\u001b[0m \u001b[32m━━━━━━━━━━━━━━━━━━━━\u001b[0m\u001b[37m\u001b[0m \u001b[1m0s\u001b[0m 35ms/step\n"
     ]
    }
   ],
   "source": [
    "resultado = clasificador.predict(test_image)"
   ]
  },
  {
   "cell_type": "code",
   "execution_count": 73,
   "id": "f56b791e-38d1-43a7-b50a-1e9d14880046",
   "metadata": {},
   "outputs": [
    {
     "data": {
      "text/plain": [
       "{'cats': 0, 'dogs': 1}"
      ]
     },
     "execution_count": 73,
     "metadata": {},
     "output_type": "execute_result"
    }
   ],
   "source": [
    "# gato -> 0\n",
    "# perro -> 1\n",
    "training_set.class_indices"
   ]
  },
  {
   "cell_type": "code",
   "execution_count": 74,
   "id": "5c5e2dc6-4eb3-435b-b974-d8c0779fc89e",
   "metadata": {},
   "outputs": [
    {
     "name": "stdout",
     "output_type": "stream",
     "text": [
      "Esto es un perro\n"
     ]
    }
   ],
   "source": [
    "if resultado[0][0] > 0.5:\n",
    "    print(\"Esto es un perro\")\n",
    "else:\n",
    "    print(\"Esto es un gato\")"
   ]
  },
  {
   "cell_type": "code",
   "execution_count": 75,
   "id": "c68180d8-34db-468d-8440-2b8af7e26915",
   "metadata": {},
   "outputs": [
    {
     "data": {
      "text/plain": [
       "array([[0.964798]], dtype=float32)"
      ]
     },
     "execution_count": 75,
     "metadata": {},
     "output_type": "execute_result"
    }
   ],
   "source": [
    "resultado"
   ]
  },
  {
   "cell_type": "code",
   "execution_count": null,
   "id": "24add006-728e-4c1a-934c-770d29427496",
   "metadata": {},
   "outputs": [],
   "source": []
  }
 ],
 "metadata": {
  "kernelspec": {
   "display_name": "Python 3 (ipykernel)",
   "language": "python",
   "name": "python3"
  },
  "language_info": {
   "codemirror_mode": {
    "name": "ipython",
    "version": 3
   },
   "file_extension": ".py",
   "mimetype": "text/x-python",
   "name": "python",
   "nbconvert_exporter": "python",
   "pygments_lexer": "ipython3",
   "version": "3.11.7"
  }
 },
 "nbformat": 4,
 "nbformat_minor": 5
}
